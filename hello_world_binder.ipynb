{
  "cells": [
    {
      "cell_type": "markdown",
      "metadata": {},
      "source": [
        "<!DOCTYPE html>\n",
        "<html>\n",
        "<head>\n",
        "    <meta charset=\"UTF-8\">\n",
        "    <meta name=\"description\" content=\"IslamGuide - Jouw bron voor gebedstijden en islamitische informatie.\">\n",
        "    <meta name=\"keywords\" content=\"Islam, gebedstijden, islamitische informatie\">\n",
        "    <meta name=\"author\" content=\"Jouw Naam\">\n",
        "    <title>IslamGuide - Gebedstijden</title>\n",
        "</head>\n",
        "<body>\n",
        "    <header>\n",
        "        <h1>IslamGuide</h1>\n",
        "        <nav>\n",
        "            <ul>\n",
        "                <li><a href=\"https://islamguide.eu/\">Home</a></li>\n",
        "                <li><a href=\"https://islamguide.eu/gebedstijden/\">Gebedstijden</a></li>\n",
        "                <!-- Voeg hier eventuele andere secties of links toe -->\n",
        "            </ul>\n",
        "        </nav>\n",
        "    </header>\n",
        "    <main>\n",
        "        <section>\n",
        "            <h2>Welkom bij IslamGuide</h2>\n",
        "            <p>IslamGuide is jouw betrouwbare bron voor gebedstijden en waardevolle islamitische informatie. Wij bieden actuele gebedstijden en een schat aan kennis over de islam, om jou te helpen je spirituele reis te versterken.</p>\n",
        "        </section>\n",
        "        <section>\n",
        "            <h2>Gebedstijden</h2>\n",
        "            <p>Op zoek naar de gebedstijden? Bekijk onze <a href=\"https://islamguide.eu/gebedstijden/\">gebedstijdenpagina</a> voor actuele informatie over gebedstijden in jouw regio.</p>\n",
        "        </section>\n",
        "    </main>\n",
        "    <footer>\n",
        "        <p>&copy; 2023 IslamGuide - Alle rechten voorbehouden.</p>\n",
        "    </footer>\n",
        "</body>\n",
        "</html>"
      ]
    }
  ],
  "metadata": {
    "kernelspec": {
      "display_name": "Python 3",
      "language": "python",
      "name": "python3"
    },
    "language_info": {
      "codemirror_mode": {
        "name": "htmlmixed"
      }
    }
  },
  "nbformat": 4,
  "nbformat_minor": 2
}
